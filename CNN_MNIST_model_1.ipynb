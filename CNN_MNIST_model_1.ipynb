{
  "nbformat": 4,
  "nbformat_minor": 0,
  "metadata": {
    "colab": {
      "provenance": [],
      "authorship_tag": "ABX9TyN5xhWZoBjkrC/edICHa0wo",
      "include_colab_link": true
    },
    "kernelspec": {
      "name": "python3",
      "display_name": "Python 3"
    },
    "language_info": {
      "name": "python"
    },
    "widgets": {
      "application/vnd.jupyter.widget-state+json": {
        "cc8d16e52d7f49e5bd54bf9e20b9ba6c": {
          "model_module": "@jupyter-widgets/controls",
          "model_name": "HBoxModel",
          "model_module_version": "1.5.0",
          "state": {
            "_dom_classes": [],
            "_model_module": "@jupyter-widgets/controls",
            "_model_module_version": "1.5.0",
            "_model_name": "HBoxModel",
            "_view_count": null,
            "_view_module": "@jupyter-widgets/controls",
            "_view_module_version": "1.5.0",
            "_view_name": "HBoxView",
            "box_style": "",
            "children": [
              "IPY_MODEL_464ac4963dfb472895058ef18b78ecbc",
              "IPY_MODEL_9fd092c22e054b32b9ddce600d10e154",
              "IPY_MODEL_37006b32fc1741108210dcc595390f71"
            ],
            "layout": "IPY_MODEL_662d3f8191984bf98b09d181de4b5755"
          }
        },
        "464ac4963dfb472895058ef18b78ecbc": {
          "model_module": "@jupyter-widgets/controls",
          "model_name": "HTMLModel",
          "model_module_version": "1.5.0",
          "state": {
            "_dom_classes": [],
            "_model_module": "@jupyter-widgets/controls",
            "_model_module_version": "1.5.0",
            "_model_name": "HTMLModel",
            "_view_count": null,
            "_view_module": "@jupyter-widgets/controls",
            "_view_module_version": "1.5.0",
            "_view_name": "HTMLView",
            "description": "",
            "description_tooltip": null,
            "layout": "IPY_MODEL_b1b5b0f41a72419fbf5b108f30f0498b",
            "placeholder": "​",
            "style": "IPY_MODEL_b1a3508a22b14d5c8083d5e9543ad153",
            "value": "100%"
          }
        },
        "9fd092c22e054b32b9ddce600d10e154": {
          "model_module": "@jupyter-widgets/controls",
          "model_name": "FloatProgressModel",
          "model_module_version": "1.5.0",
          "state": {
            "_dom_classes": [],
            "_model_module": "@jupyter-widgets/controls",
            "_model_module_version": "1.5.0",
            "_model_name": "FloatProgressModel",
            "_view_count": null,
            "_view_module": "@jupyter-widgets/controls",
            "_view_module_version": "1.5.0",
            "_view_name": "ProgressView",
            "bar_style": "success",
            "description": "",
            "description_tooltip": null,
            "layout": "IPY_MODEL_2086389672244e7792731cb4995e19d7",
            "max": 3,
            "min": 0,
            "orientation": "horizontal",
            "style": "IPY_MODEL_43d0ef693207492baae6e8a59d715376",
            "value": 3
          }
        },
        "37006b32fc1741108210dcc595390f71": {
          "model_module": "@jupyter-widgets/controls",
          "model_name": "HTMLModel",
          "model_module_version": "1.5.0",
          "state": {
            "_dom_classes": [],
            "_model_module": "@jupyter-widgets/controls",
            "_model_module_version": "1.5.0",
            "_model_name": "HTMLModel",
            "_view_count": null,
            "_view_module": "@jupyter-widgets/controls",
            "_view_module_version": "1.5.0",
            "_view_name": "HTMLView",
            "description": "",
            "description_tooltip": null,
            "layout": "IPY_MODEL_6c58f978d69b408191b65eb2f5ca2f94",
            "placeholder": "​",
            "style": "IPY_MODEL_b45357d7fb24409598ca16d2624580d0",
            "value": " 3/3 [03:12&lt;00:00, 64.19s/it]"
          }
        },
        "662d3f8191984bf98b09d181de4b5755": {
          "model_module": "@jupyter-widgets/base",
          "model_name": "LayoutModel",
          "model_module_version": "1.2.0",
          "state": {
            "_model_module": "@jupyter-widgets/base",
            "_model_module_version": "1.2.0",
            "_model_name": "LayoutModel",
            "_view_count": null,
            "_view_module": "@jupyter-widgets/base",
            "_view_module_version": "1.2.0",
            "_view_name": "LayoutView",
            "align_content": null,
            "align_items": null,
            "align_self": null,
            "border": null,
            "bottom": null,
            "display": null,
            "flex": null,
            "flex_flow": null,
            "grid_area": null,
            "grid_auto_columns": null,
            "grid_auto_flow": null,
            "grid_auto_rows": null,
            "grid_column": null,
            "grid_gap": null,
            "grid_row": null,
            "grid_template_areas": null,
            "grid_template_columns": null,
            "grid_template_rows": null,
            "height": null,
            "justify_content": null,
            "justify_items": null,
            "left": null,
            "margin": null,
            "max_height": null,
            "max_width": null,
            "min_height": null,
            "min_width": null,
            "object_fit": null,
            "object_position": null,
            "order": null,
            "overflow": null,
            "overflow_x": null,
            "overflow_y": null,
            "padding": null,
            "right": null,
            "top": null,
            "visibility": null,
            "width": null
          }
        },
        "b1b5b0f41a72419fbf5b108f30f0498b": {
          "model_module": "@jupyter-widgets/base",
          "model_name": "LayoutModel",
          "model_module_version": "1.2.0",
          "state": {
            "_model_module": "@jupyter-widgets/base",
            "_model_module_version": "1.2.0",
            "_model_name": "LayoutModel",
            "_view_count": null,
            "_view_module": "@jupyter-widgets/base",
            "_view_module_version": "1.2.0",
            "_view_name": "LayoutView",
            "align_content": null,
            "align_items": null,
            "align_self": null,
            "border": null,
            "bottom": null,
            "display": null,
            "flex": null,
            "flex_flow": null,
            "grid_area": null,
            "grid_auto_columns": null,
            "grid_auto_flow": null,
            "grid_auto_rows": null,
            "grid_column": null,
            "grid_gap": null,
            "grid_row": null,
            "grid_template_areas": null,
            "grid_template_columns": null,
            "grid_template_rows": null,
            "height": null,
            "justify_content": null,
            "justify_items": null,
            "left": null,
            "margin": null,
            "max_height": null,
            "max_width": null,
            "min_height": null,
            "min_width": null,
            "object_fit": null,
            "object_position": null,
            "order": null,
            "overflow": null,
            "overflow_x": null,
            "overflow_y": null,
            "padding": null,
            "right": null,
            "top": null,
            "visibility": null,
            "width": null
          }
        },
        "b1a3508a22b14d5c8083d5e9543ad153": {
          "model_module": "@jupyter-widgets/controls",
          "model_name": "DescriptionStyleModel",
          "model_module_version": "1.5.0",
          "state": {
            "_model_module": "@jupyter-widgets/controls",
            "_model_module_version": "1.5.0",
            "_model_name": "DescriptionStyleModel",
            "_view_count": null,
            "_view_module": "@jupyter-widgets/base",
            "_view_module_version": "1.2.0",
            "_view_name": "StyleView",
            "description_width": ""
          }
        },
        "2086389672244e7792731cb4995e19d7": {
          "model_module": "@jupyter-widgets/base",
          "model_name": "LayoutModel",
          "model_module_version": "1.2.0",
          "state": {
            "_model_module": "@jupyter-widgets/base",
            "_model_module_version": "1.2.0",
            "_model_name": "LayoutModel",
            "_view_count": null,
            "_view_module": "@jupyter-widgets/base",
            "_view_module_version": "1.2.0",
            "_view_name": "LayoutView",
            "align_content": null,
            "align_items": null,
            "align_self": null,
            "border": null,
            "bottom": null,
            "display": null,
            "flex": null,
            "flex_flow": null,
            "grid_area": null,
            "grid_auto_columns": null,
            "grid_auto_flow": null,
            "grid_auto_rows": null,
            "grid_column": null,
            "grid_gap": null,
            "grid_row": null,
            "grid_template_areas": null,
            "grid_template_columns": null,
            "grid_template_rows": null,
            "height": null,
            "justify_content": null,
            "justify_items": null,
            "left": null,
            "margin": null,
            "max_height": null,
            "max_width": null,
            "min_height": null,
            "min_width": null,
            "object_fit": null,
            "object_position": null,
            "order": null,
            "overflow": null,
            "overflow_x": null,
            "overflow_y": null,
            "padding": null,
            "right": null,
            "top": null,
            "visibility": null,
            "width": null
          }
        },
        "43d0ef693207492baae6e8a59d715376": {
          "model_module": "@jupyter-widgets/controls",
          "model_name": "ProgressStyleModel",
          "model_module_version": "1.5.0",
          "state": {
            "_model_module": "@jupyter-widgets/controls",
            "_model_module_version": "1.5.0",
            "_model_name": "ProgressStyleModel",
            "_view_count": null,
            "_view_module": "@jupyter-widgets/base",
            "_view_module_version": "1.2.0",
            "_view_name": "StyleView",
            "bar_color": null,
            "description_width": ""
          }
        },
        "6c58f978d69b408191b65eb2f5ca2f94": {
          "model_module": "@jupyter-widgets/base",
          "model_name": "LayoutModel",
          "model_module_version": "1.2.0",
          "state": {
            "_model_module": "@jupyter-widgets/base",
            "_model_module_version": "1.2.0",
            "_model_name": "LayoutModel",
            "_view_count": null,
            "_view_module": "@jupyter-widgets/base",
            "_view_module_version": "1.2.0",
            "_view_name": "LayoutView",
            "align_content": null,
            "align_items": null,
            "align_self": null,
            "border": null,
            "bottom": null,
            "display": null,
            "flex": null,
            "flex_flow": null,
            "grid_area": null,
            "grid_auto_columns": null,
            "grid_auto_flow": null,
            "grid_auto_rows": null,
            "grid_column": null,
            "grid_gap": null,
            "grid_row": null,
            "grid_template_areas": null,
            "grid_template_columns": null,
            "grid_template_rows": null,
            "height": null,
            "justify_content": null,
            "justify_items": null,
            "left": null,
            "margin": null,
            "max_height": null,
            "max_width": null,
            "min_height": null,
            "min_width": null,
            "object_fit": null,
            "object_position": null,
            "order": null,
            "overflow": null,
            "overflow_x": null,
            "overflow_y": null,
            "padding": null,
            "right": null,
            "top": null,
            "visibility": null,
            "width": null
          }
        },
        "b45357d7fb24409598ca16d2624580d0": {
          "model_module": "@jupyter-widgets/controls",
          "model_name": "DescriptionStyleModel",
          "model_module_version": "1.5.0",
          "state": {
            "_model_module": "@jupyter-widgets/controls",
            "_model_module_version": "1.5.0",
            "_model_name": "DescriptionStyleModel",
            "_view_count": null,
            "_view_module": "@jupyter-widgets/base",
            "_view_module_version": "1.2.0",
            "_view_name": "StyleView",
            "description_width": ""
          }
        },
        "fa92e17688be41b7a04633079ac5190d": {
          "model_module": "@jupyter-widgets/controls",
          "model_name": "HBoxModel",
          "model_module_version": "1.5.0",
          "state": {
            "_dom_classes": [],
            "_model_module": "@jupyter-widgets/controls",
            "_model_module_version": "1.5.0",
            "_model_name": "HBoxModel",
            "_view_count": null,
            "_view_module": "@jupyter-widgets/controls",
            "_view_module_version": "1.5.0",
            "_view_name": "HBoxView",
            "box_style": "",
            "children": [
              "IPY_MODEL_81020f4a68394fae815cc62d3a3c5648",
              "IPY_MODEL_7c113f517a0f4581a009455c017e6e4f",
              "IPY_MODEL_0a166fb8ac6645079dc3cb0c90176233"
            ],
            "layout": "IPY_MODEL_471965f2754e4738acb4e21ae1925029"
          }
        },
        "81020f4a68394fae815cc62d3a3c5648": {
          "model_module": "@jupyter-widgets/controls",
          "model_name": "HTMLModel",
          "model_module_version": "1.5.0",
          "state": {
            "_dom_classes": [],
            "_model_module": "@jupyter-widgets/controls",
            "_model_module_version": "1.5.0",
            "_model_name": "HTMLModel",
            "_view_count": null,
            "_view_module": "@jupyter-widgets/controls",
            "_view_module_version": "1.5.0",
            "_view_name": "HTMLView",
            "description": "",
            "description_tooltip": null,
            "layout": "IPY_MODEL_0c08115d05fb4fc0b8201ae201217873",
            "placeholder": "​",
            "style": "IPY_MODEL_36fbc21a6186471cb36c7aa40c230745",
            "value": "100%"
          }
        },
        "7c113f517a0f4581a009455c017e6e4f": {
          "model_module": "@jupyter-widgets/controls",
          "model_name": "FloatProgressModel",
          "model_module_version": "1.5.0",
          "state": {
            "_dom_classes": [],
            "_model_module": "@jupyter-widgets/controls",
            "_model_module_version": "1.5.0",
            "_model_name": "FloatProgressModel",
            "_view_count": null,
            "_view_module": "@jupyter-widgets/controls",
            "_view_module_version": "1.5.0",
            "_view_name": "ProgressView",
            "bar_style": "success",
            "description": "",
            "description_tooltip": null,
            "layout": "IPY_MODEL_3f44eb89e37e4239b95f3387896da4ad",
            "max": 313,
            "min": 0,
            "orientation": "horizontal",
            "style": "IPY_MODEL_671e39622ed84f88999deb6166a5245e",
            "value": 313
          }
        },
        "0a166fb8ac6645079dc3cb0c90176233": {
          "model_module": "@jupyter-widgets/controls",
          "model_name": "HTMLModel",
          "model_module_version": "1.5.0",
          "state": {
            "_dom_classes": [],
            "_model_module": "@jupyter-widgets/controls",
            "_model_module_version": "1.5.0",
            "_model_name": "HTMLModel",
            "_view_count": null,
            "_view_module": "@jupyter-widgets/controls",
            "_view_module_version": "1.5.0",
            "_view_name": "HTMLView",
            "description": "",
            "description_tooltip": null,
            "layout": "IPY_MODEL_a21ed283d63f417d92fd76bfe25d8d3f",
            "placeholder": "​",
            "style": "IPY_MODEL_81f25865a93a4c9fa082910acd86ca6e",
            "value": " 313/313 [00:05&lt;00:00, 67.90it/s]"
          }
        },
        "471965f2754e4738acb4e21ae1925029": {
          "model_module": "@jupyter-widgets/base",
          "model_name": "LayoutModel",
          "model_module_version": "1.2.0",
          "state": {
            "_model_module": "@jupyter-widgets/base",
            "_model_module_version": "1.2.0",
            "_model_name": "LayoutModel",
            "_view_count": null,
            "_view_module": "@jupyter-widgets/base",
            "_view_module_version": "1.2.0",
            "_view_name": "LayoutView",
            "align_content": null,
            "align_items": null,
            "align_self": null,
            "border": null,
            "bottom": null,
            "display": null,
            "flex": null,
            "flex_flow": null,
            "grid_area": null,
            "grid_auto_columns": null,
            "grid_auto_flow": null,
            "grid_auto_rows": null,
            "grid_column": null,
            "grid_gap": null,
            "grid_row": null,
            "grid_template_areas": null,
            "grid_template_columns": null,
            "grid_template_rows": null,
            "height": null,
            "justify_content": null,
            "justify_items": null,
            "left": null,
            "margin": null,
            "max_height": null,
            "max_width": null,
            "min_height": null,
            "min_width": null,
            "object_fit": null,
            "object_position": null,
            "order": null,
            "overflow": null,
            "overflow_x": null,
            "overflow_y": null,
            "padding": null,
            "right": null,
            "top": null,
            "visibility": null,
            "width": null
          }
        },
        "0c08115d05fb4fc0b8201ae201217873": {
          "model_module": "@jupyter-widgets/base",
          "model_name": "LayoutModel",
          "model_module_version": "1.2.0",
          "state": {
            "_model_module": "@jupyter-widgets/base",
            "_model_module_version": "1.2.0",
            "_model_name": "LayoutModel",
            "_view_count": null,
            "_view_module": "@jupyter-widgets/base",
            "_view_module_version": "1.2.0",
            "_view_name": "LayoutView",
            "align_content": null,
            "align_items": null,
            "align_self": null,
            "border": null,
            "bottom": null,
            "display": null,
            "flex": null,
            "flex_flow": null,
            "grid_area": null,
            "grid_auto_columns": null,
            "grid_auto_flow": null,
            "grid_auto_rows": null,
            "grid_column": null,
            "grid_gap": null,
            "grid_row": null,
            "grid_template_areas": null,
            "grid_template_columns": null,
            "grid_template_rows": null,
            "height": null,
            "justify_content": null,
            "justify_items": null,
            "left": null,
            "margin": null,
            "max_height": null,
            "max_width": null,
            "min_height": null,
            "min_width": null,
            "object_fit": null,
            "object_position": null,
            "order": null,
            "overflow": null,
            "overflow_x": null,
            "overflow_y": null,
            "padding": null,
            "right": null,
            "top": null,
            "visibility": null,
            "width": null
          }
        },
        "36fbc21a6186471cb36c7aa40c230745": {
          "model_module": "@jupyter-widgets/controls",
          "model_name": "DescriptionStyleModel",
          "model_module_version": "1.5.0",
          "state": {
            "_model_module": "@jupyter-widgets/controls",
            "_model_module_version": "1.5.0",
            "_model_name": "DescriptionStyleModel",
            "_view_count": null,
            "_view_module": "@jupyter-widgets/base",
            "_view_module_version": "1.2.0",
            "_view_name": "StyleView",
            "description_width": ""
          }
        },
        "3f44eb89e37e4239b95f3387896da4ad": {
          "model_module": "@jupyter-widgets/base",
          "model_name": "LayoutModel",
          "model_module_version": "1.2.0",
          "state": {
            "_model_module": "@jupyter-widgets/base",
            "_model_module_version": "1.2.0",
            "_model_name": "LayoutModel",
            "_view_count": null,
            "_view_module": "@jupyter-widgets/base",
            "_view_module_version": "1.2.0",
            "_view_name": "LayoutView",
            "align_content": null,
            "align_items": null,
            "align_self": null,
            "border": null,
            "bottom": null,
            "display": null,
            "flex": null,
            "flex_flow": null,
            "grid_area": null,
            "grid_auto_columns": null,
            "grid_auto_flow": null,
            "grid_auto_rows": null,
            "grid_column": null,
            "grid_gap": null,
            "grid_row": null,
            "grid_template_areas": null,
            "grid_template_columns": null,
            "grid_template_rows": null,
            "height": null,
            "justify_content": null,
            "justify_items": null,
            "left": null,
            "margin": null,
            "max_height": null,
            "max_width": null,
            "min_height": null,
            "min_width": null,
            "object_fit": null,
            "object_position": null,
            "order": null,
            "overflow": null,
            "overflow_x": null,
            "overflow_y": null,
            "padding": null,
            "right": null,
            "top": null,
            "visibility": null,
            "width": null
          }
        },
        "671e39622ed84f88999deb6166a5245e": {
          "model_module": "@jupyter-widgets/controls",
          "model_name": "ProgressStyleModel",
          "model_module_version": "1.5.0",
          "state": {
            "_model_module": "@jupyter-widgets/controls",
            "_model_module_version": "1.5.0",
            "_model_name": "ProgressStyleModel",
            "_view_count": null,
            "_view_module": "@jupyter-widgets/base",
            "_view_module_version": "1.2.0",
            "_view_name": "StyleView",
            "bar_color": null,
            "description_width": ""
          }
        },
        "a21ed283d63f417d92fd76bfe25d8d3f": {
          "model_module": "@jupyter-widgets/base",
          "model_name": "LayoutModel",
          "model_module_version": "1.2.0",
          "state": {
            "_model_module": "@jupyter-widgets/base",
            "_model_module_version": "1.2.0",
            "_model_name": "LayoutModel",
            "_view_count": null,
            "_view_module": "@jupyter-widgets/base",
            "_view_module_version": "1.2.0",
            "_view_name": "LayoutView",
            "align_content": null,
            "align_items": null,
            "align_self": null,
            "border": null,
            "bottom": null,
            "display": null,
            "flex": null,
            "flex_flow": null,
            "grid_area": null,
            "grid_auto_columns": null,
            "grid_auto_flow": null,
            "grid_auto_rows": null,
            "grid_column": null,
            "grid_gap": null,
            "grid_row": null,
            "grid_template_areas": null,
            "grid_template_columns": null,
            "grid_template_rows": null,
            "height": null,
            "justify_content": null,
            "justify_items": null,
            "left": null,
            "margin": null,
            "max_height": null,
            "max_width": null,
            "min_height": null,
            "min_width": null,
            "object_fit": null,
            "object_position": null,
            "order": null,
            "overflow": null,
            "overflow_x": null,
            "overflow_y": null,
            "padding": null,
            "right": null,
            "top": null,
            "visibility": null,
            "width": null
          }
        },
        "81f25865a93a4c9fa082910acd86ca6e": {
          "model_module": "@jupyter-widgets/controls",
          "model_name": "DescriptionStyleModel",
          "model_module_version": "1.5.0",
          "state": {
            "_model_module": "@jupyter-widgets/controls",
            "_model_module_version": "1.5.0",
            "_model_name": "DescriptionStyleModel",
            "_view_count": null,
            "_view_module": "@jupyter-widgets/base",
            "_view_module_version": "1.2.0",
            "_view_name": "StyleView",
            "description_width": ""
          }
        },
        "9b256b8a23cc440da6f7f6d2b5c864a1": {
          "model_module": "@jupyter-widgets/controls",
          "model_name": "HBoxModel",
          "model_module_version": "1.5.0",
          "state": {
            "_dom_classes": [],
            "_model_module": "@jupyter-widgets/controls",
            "_model_module_version": "1.5.0",
            "_model_name": "HBoxModel",
            "_view_count": null,
            "_view_module": "@jupyter-widgets/controls",
            "_view_module_version": "1.5.0",
            "_view_name": "HBoxView",
            "box_style": "",
            "children": [
              "IPY_MODEL_7e0f66e949634221a25df5d25c0a65bb",
              "IPY_MODEL_887e0525fd8240ff895ff9d54b1b7de1",
              "IPY_MODEL_2a3f1d471b20465e9d0831bc7c647f4e"
            ],
            "layout": "IPY_MODEL_85b458e6fb9d4782ba08c9f77b887417"
          }
        },
        "7e0f66e949634221a25df5d25c0a65bb": {
          "model_module": "@jupyter-widgets/controls",
          "model_name": "HTMLModel",
          "model_module_version": "1.5.0",
          "state": {
            "_dom_classes": [],
            "_model_module": "@jupyter-widgets/controls",
            "_model_module_version": "1.5.0",
            "_model_name": "HTMLModel",
            "_view_count": null,
            "_view_module": "@jupyter-widgets/controls",
            "_view_module_version": "1.5.0",
            "_view_name": "HTMLView",
            "description": "",
            "description_tooltip": null,
            "layout": "IPY_MODEL_725da2e2a98f47338fe5a8c7829c1fcc",
            "placeholder": "​",
            "style": "IPY_MODEL_8b1ce7a2e37643a38ea3e623f1263579",
            "value": "making prediction....: 100%"
          }
        },
        "887e0525fd8240ff895ff9d54b1b7de1": {
          "model_module": "@jupyter-widgets/controls",
          "model_name": "FloatProgressModel",
          "model_module_version": "1.5.0",
          "state": {
            "_dom_classes": [],
            "_model_module": "@jupyter-widgets/controls",
            "_model_module_version": "1.5.0",
            "_model_name": "FloatProgressModel",
            "_view_count": null,
            "_view_module": "@jupyter-widgets/controls",
            "_view_module_version": "1.5.0",
            "_view_name": "ProgressView",
            "bar_style": "success",
            "description": "",
            "description_tooltip": null,
            "layout": "IPY_MODEL_659bec6119f7495280c22916529cf835",
            "max": 313,
            "min": 0,
            "orientation": "horizontal",
            "style": "IPY_MODEL_8c866f8e84f545818c42d2ba5a94ce6b",
            "value": 313
          }
        },
        "2a3f1d471b20465e9d0831bc7c647f4e": {
          "model_module": "@jupyter-widgets/controls",
          "model_name": "HTMLModel",
          "model_module_version": "1.5.0",
          "state": {
            "_dom_classes": [],
            "_model_module": "@jupyter-widgets/controls",
            "_model_module_version": "1.5.0",
            "_model_name": "HTMLModel",
            "_view_count": null,
            "_view_module": "@jupyter-widgets/controls",
            "_view_module_version": "1.5.0",
            "_view_name": "HTMLView",
            "description": "",
            "description_tooltip": null,
            "layout": "IPY_MODEL_6e74a43a4a9344bea63181f281be7d69",
            "placeholder": "​",
            "style": "IPY_MODEL_f179cdb9cc674d159448ccb1d717e90e",
            "value": " 313/313 [00:12&lt;00:00, 30.09it/s]"
          }
        },
        "85b458e6fb9d4782ba08c9f77b887417": {
          "model_module": "@jupyter-widgets/base",
          "model_name": "LayoutModel",
          "model_module_version": "1.2.0",
          "state": {
            "_model_module": "@jupyter-widgets/base",
            "_model_module_version": "1.2.0",
            "_model_name": "LayoutModel",
            "_view_count": null,
            "_view_module": "@jupyter-widgets/base",
            "_view_module_version": "1.2.0",
            "_view_name": "LayoutView",
            "align_content": null,
            "align_items": null,
            "align_self": null,
            "border": null,
            "bottom": null,
            "display": null,
            "flex": null,
            "flex_flow": null,
            "grid_area": null,
            "grid_auto_columns": null,
            "grid_auto_flow": null,
            "grid_auto_rows": null,
            "grid_column": null,
            "grid_gap": null,
            "grid_row": null,
            "grid_template_areas": null,
            "grid_template_columns": null,
            "grid_template_rows": null,
            "height": null,
            "justify_content": null,
            "justify_items": null,
            "left": null,
            "margin": null,
            "max_height": null,
            "max_width": null,
            "min_height": null,
            "min_width": null,
            "object_fit": null,
            "object_position": null,
            "order": null,
            "overflow": null,
            "overflow_x": null,
            "overflow_y": null,
            "padding": null,
            "right": null,
            "top": null,
            "visibility": null,
            "width": null
          }
        },
        "725da2e2a98f47338fe5a8c7829c1fcc": {
          "model_module": "@jupyter-widgets/base",
          "model_name": "LayoutModel",
          "model_module_version": "1.2.0",
          "state": {
            "_model_module": "@jupyter-widgets/base",
            "_model_module_version": "1.2.0",
            "_model_name": "LayoutModel",
            "_view_count": null,
            "_view_module": "@jupyter-widgets/base",
            "_view_module_version": "1.2.0",
            "_view_name": "LayoutView",
            "align_content": null,
            "align_items": null,
            "align_self": null,
            "border": null,
            "bottom": null,
            "display": null,
            "flex": null,
            "flex_flow": null,
            "grid_area": null,
            "grid_auto_columns": null,
            "grid_auto_flow": null,
            "grid_auto_rows": null,
            "grid_column": null,
            "grid_gap": null,
            "grid_row": null,
            "grid_template_areas": null,
            "grid_template_columns": null,
            "grid_template_rows": null,
            "height": null,
            "justify_content": null,
            "justify_items": null,
            "left": null,
            "margin": null,
            "max_height": null,
            "max_width": null,
            "min_height": null,
            "min_width": null,
            "object_fit": null,
            "object_position": null,
            "order": null,
            "overflow": null,
            "overflow_x": null,
            "overflow_y": null,
            "padding": null,
            "right": null,
            "top": null,
            "visibility": null,
            "width": null
          }
        },
        "8b1ce7a2e37643a38ea3e623f1263579": {
          "model_module": "@jupyter-widgets/controls",
          "model_name": "DescriptionStyleModel",
          "model_module_version": "1.5.0",
          "state": {
            "_model_module": "@jupyter-widgets/controls",
            "_model_module_version": "1.5.0",
            "_model_name": "DescriptionStyleModel",
            "_view_count": null,
            "_view_module": "@jupyter-widgets/base",
            "_view_module_version": "1.2.0",
            "_view_name": "StyleView",
            "description_width": ""
          }
        },
        "659bec6119f7495280c22916529cf835": {
          "model_module": "@jupyter-widgets/base",
          "model_name": "LayoutModel",
          "model_module_version": "1.2.0",
          "state": {
            "_model_module": "@jupyter-widgets/base",
            "_model_module_version": "1.2.0",
            "_model_name": "LayoutModel",
            "_view_count": null,
            "_view_module": "@jupyter-widgets/base",
            "_view_module_version": "1.2.0",
            "_view_name": "LayoutView",
            "align_content": null,
            "align_items": null,
            "align_self": null,
            "border": null,
            "bottom": null,
            "display": null,
            "flex": null,
            "flex_flow": null,
            "grid_area": null,
            "grid_auto_columns": null,
            "grid_auto_flow": null,
            "grid_auto_rows": null,
            "grid_column": null,
            "grid_gap": null,
            "grid_row": null,
            "grid_template_areas": null,
            "grid_template_columns": null,
            "grid_template_rows": null,
            "height": null,
            "justify_content": null,
            "justify_items": null,
            "left": null,
            "margin": null,
            "max_height": null,
            "max_width": null,
            "min_height": null,
            "min_width": null,
            "object_fit": null,
            "object_position": null,
            "order": null,
            "overflow": null,
            "overflow_x": null,
            "overflow_y": null,
            "padding": null,
            "right": null,
            "top": null,
            "visibility": null,
            "width": null
          }
        },
        "8c866f8e84f545818c42d2ba5a94ce6b": {
          "model_module": "@jupyter-widgets/controls",
          "model_name": "ProgressStyleModel",
          "model_module_version": "1.5.0",
          "state": {
            "_model_module": "@jupyter-widgets/controls",
            "_model_module_version": "1.5.0",
            "_model_name": "ProgressStyleModel",
            "_view_count": null,
            "_view_module": "@jupyter-widgets/base",
            "_view_module_version": "1.2.0",
            "_view_name": "StyleView",
            "bar_color": null,
            "description_width": ""
          }
        },
        "6e74a43a4a9344bea63181f281be7d69": {
          "model_module": "@jupyter-widgets/base",
          "model_name": "LayoutModel",
          "model_module_version": "1.2.0",
          "state": {
            "_model_module": "@jupyter-widgets/base",
            "_model_module_version": "1.2.0",
            "_model_name": "LayoutModel",
            "_view_count": null,
            "_view_module": "@jupyter-widgets/base",
            "_view_module_version": "1.2.0",
            "_view_name": "LayoutView",
            "align_content": null,
            "align_items": null,
            "align_self": null,
            "border": null,
            "bottom": null,
            "display": null,
            "flex": null,
            "flex_flow": null,
            "grid_area": null,
            "grid_auto_columns": null,
            "grid_auto_flow": null,
            "grid_auto_rows": null,
            "grid_column": null,
            "grid_gap": null,
            "grid_row": null,
            "grid_template_areas": null,
            "grid_template_columns": null,
            "grid_template_rows": null,
            "height": null,
            "justify_content": null,
            "justify_items": null,
            "left": null,
            "margin": null,
            "max_height": null,
            "max_width": null,
            "min_height": null,
            "min_width": null,
            "object_fit": null,
            "object_position": null,
            "order": null,
            "overflow": null,
            "overflow_x": null,
            "overflow_y": null,
            "padding": null,
            "right": null,
            "top": null,
            "visibility": null,
            "width": null
          }
        },
        "f179cdb9cc674d159448ccb1d717e90e": {
          "model_module": "@jupyter-widgets/controls",
          "model_name": "DescriptionStyleModel",
          "model_module_version": "1.5.0",
          "state": {
            "_model_module": "@jupyter-widgets/controls",
            "_model_module_version": "1.5.0",
            "_model_name": "DescriptionStyleModel",
            "_view_count": null,
            "_view_module": "@jupyter-widgets/base",
            "_view_module_version": "1.2.0",
            "_view_name": "StyleView",
            "description_width": ""
          }
        }
      }
    }
  },
  "cells": [
    {
      "cell_type": "markdown",
      "metadata": {
        "id": "view-in-github",
        "colab_type": "text"
      },
      "source": [
        "<a href=\"https://colab.research.google.com/github/bluepeach1121/CNN_Model_MNIST/blob/main/CNN_MNIST_model_1.ipynb\" target=\"_parent\"><img src=\"https://colab.research.google.com/assets/colab-badge.svg\" alt=\"Open In Colab\"/></a>"
      ]
    },
    {
      "cell_type": "markdown",
      "source": [
        "my first time building a model by myself... I would be attempting to achieve 88% accuracy on the MNIST dataset.\n",
        "The MNIST dataset (Modified National Institute of Standards and Technology dataset) is a large database of handwritten digits."
      ],
      "metadata": {
        "id": "3QvsSYsTeFQ3"
      }
    },
    {
      "cell_type": "markdown",
      "source": [
        "#1.getting the MNIST dataset and going thru the data 😱😱😱😱"
      ],
      "metadata": {
        "id": "GK8xwq3Seooo"
      }
    },
    {
      "cell_type": "code",
      "source": [
        "import torch\n",
        "from torch import nn\n",
        "\n",
        "import torchvision\n",
        "from torchvision import datasets\n",
        "from torchvision import transforms\n",
        "from torchvision.transforms import ToTensor\n",
        "\n",
        "import matplotlib.pyplot as plt #for visualization\n",
        "import pandas as pd\n",
        "\n",
        "\n",
        "from tqdm.auto import tqdm #for progress bar, you'll see\n",
        "\n"
      ],
      "metadata": {
        "id": "RUoi6ncOeyWQ"
      },
      "execution_count": 73,
      "outputs": []
    },
    {
      "cell_type": "code",
      "source": [
        "#setting up of training and testing data\n",
        "train_data = datasets.MNIST(\n",
        "    root='data', #where data is downloaded to.\n",
        "    train=True,\n",
        "    download=True,\n",
        "    transform=torchvision.transforms.ToTensor(), # converts a PIL image to tensor array\n",
        "    target_transform=None #we arent applying any transforms to the labels\n",
        "    )\n",
        "\n",
        "test_data = datasets.MNIST(\n",
        "    root='data',\n",
        "    train=False,\n",
        "    download=True,\n",
        "    transform=ToTensor(),\n",
        "    target_transform=None\n",
        ")"
      ],
      "metadata": {
        "id": "HhHDie4-f97r"
      },
      "execution_count": null,
      "outputs": []
    },
    {
      "cell_type": "code",
      "source": [
        "len(train_data), len(test_data)"
      ],
      "metadata": {
        "colab": {
          "base_uri": "https://localhost:8080/"
        },
        "id": "e1zqa1vXhvTT",
        "outputId": "ce16bc2a-10b9-43af-a3dc-58bee97ac56e"
      },
      "execution_count": 3,
      "outputs": [
        {
          "output_type": "execute_result",
          "data": {
            "text/plain": [
              "(60000, 10000)"
            ]
          },
          "metadata": {},
          "execution_count": 3
        }
      ]
    },
    {
      "cell_type": "code",
      "source": [
        "image, label = train_data[0]\n",
        "image, label"
      ],
      "metadata": {
        "id": "GUNKCQ71h-Qj"
      },
      "execution_count": null,
      "outputs": []
    },
    {
      "cell_type": "code",
      "source": [
        "classes = train_data.classes\n",
        "classes"
      ],
      "metadata": {
        "colab": {
          "base_uri": "https://localhost:8080/"
        },
        "id": "-QzNnSEjiKJD",
        "outputId": "5fb46024-231b-4ae7-b5c6-2fa6b9db145a"
      },
      "execution_count": 14,
      "outputs": [
        {
          "output_type": "execute_result",
          "data": {
            "text/plain": [
              "['0 - zero',\n",
              " '1 - one',\n",
              " '2 - two',\n",
              " '3 - three',\n",
              " '4 - four',\n",
              " '5 - five',\n",
              " '6 - six',\n",
              " '7 - seven',\n",
              " '8 - eight',\n",
              " '9 - nine']"
            ]
          },
          "metadata": {},
          "execution_count": 14
        }
      ]
    },
    {
      "cell_type": "code",
      "source": [
        "class_to_idx = train_data.class_to_idx\n",
        "class_to_idx"
      ],
      "metadata": {
        "colab": {
          "base_uri": "https://localhost:8080/"
        },
        "id": "nhEg6SoSiYaM",
        "outputId": "e511c550-794f-4270-e5d5-942f7ba8ebed"
      },
      "execution_count": 15,
      "outputs": [
        {
          "output_type": "execute_result",
          "data": {
            "text/plain": [
              "{'0 - zero': 0,\n",
              " '1 - one': 1,\n",
              " '2 - two': 2,\n",
              " '3 - three': 3,\n",
              " '4 - four': 4,\n",
              " '5 - five': 5,\n",
              " '6 - six': 6,\n",
              " '7 - seven': 7,\n",
              " '8 - eight': 8,\n",
              " '9 - nine': 9}"
            ]
          },
          "metadata": {},
          "execution_count": 15
        }
      ]
    },
    {
      "cell_type": "code",
      "source": [
        "labels = train_data.targets\n",
        "labels"
      ],
      "metadata": {
        "colab": {
          "base_uri": "https://localhost:8080/"
        },
        "id": "cJPGlc4po8Le",
        "outputId": "0c05ac88-83db-43c6-a0c7-fef15d007497"
      },
      "execution_count": 25,
      "outputs": [
        {
          "output_type": "execute_result",
          "data": {
            "text/plain": [
              "tensor([5, 0, 4,  ..., 5, 6, 8])"
            ]
          },
          "metadata": {},
          "execution_count": 25
        }
      ]
    },
    {
      "cell_type": "code",
      "source": [
        "train_data.targets"
      ],
      "metadata": {
        "colab": {
          "base_uri": "https://localhost:8080/"
        },
        "id": "2VHjTGV4iubF",
        "outputId": "d7d092c4-309e-4d28-deda-32023d217377"
      },
      "execution_count": 24,
      "outputs": [
        {
          "output_type": "execute_result",
          "data": {
            "text/plain": [
              "tensor([5, 0, 4,  ..., 5, 6, 8])"
            ]
          },
          "metadata": {},
          "execution_count": 24
        }
      ]
    },
    {
      "cell_type": "code",
      "source": [
        "print(f'image-shape: {image.shape}---> [color-channels, height, width]')\n",
        "print(f'image label: {classes[label]}')"
      ],
      "metadata": {
        "colab": {
          "base_uri": "https://localhost:8080/"
        },
        "id": "gVoa1suQjDxY",
        "outputId": "1aa4ef8c-3433-4367-e8c8-d23d828c6efa"
      },
      "execution_count": 19,
      "outputs": [
        {
          "output_type": "stream",
          "name": "stdout",
          "text": [
            "image-shape: torch.Size([1, 28, 28])---> [color-channels, height, width]\n",
            "image label: 5 - five\n"
          ]
        }
      ]
    },
    {
      "cell_type": "markdown",
      "source": [
        "#2.visualizin our data 👇👇👇\n",
        "\n",
        "lets see what's contained in the data"
      ],
      "metadata": {
        "id": "lD0YzSkxjmU6"
      }
    },
    {
      "cell_type": "code",
      "source": [
        "print(f'the image shape is: {image.shape} ')\n"
      ],
      "metadata": {
        "colab": {
          "base_uri": "https://localhost:8080/"
        },
        "id": "PGcauTp4lYu6",
        "outputId": "897cb29b-3d06-46ce-ccb0-789ac4c3132c"
      },
      "execution_count": 18,
      "outputs": [
        {
          "output_type": "stream",
          "name": "stdout",
          "text": [
            "the image shape is: torch.Size([1, 28, 28]) \n"
          ]
        }
      ]
    },
    {
      "cell_type": "code",
      "source": [
        "image, label =train_data[0]\n",
        "plt.imshow(image.squeeze())\n",
        "plt.title(classes[label])\n",
        "#image"
      ],
      "metadata": {
        "colab": {
          "base_uri": "https://localhost:8080/",
          "height": 469
        },
        "id": "x0fq-wSWky0I",
        "outputId": "aaa59752-8d9b-4ccf-b0b3-12981f27249d"
      },
      "execution_count": 20,
      "outputs": [
        {
          "output_type": "execute_result",
          "data": {
            "text/plain": [
              "Text(0.5, 1.0, '5 - five')"
            ]
          },
          "metadata": {},
          "execution_count": 20
        },
        {
          "output_type": "display_data",
          "data": {
            "text/plain": [
              "<Figure size 640x480 with 1 Axes>"
            ],
            "image/png": "[encoded data removed]"
          },
          "metadata": {}
        }
      ]
    },
    {
      "cell_type": "markdown",
      "source": [
        "#### in order for moi to conserve compuattional power (i dont have a gpu and im not paying for google colab's gpu), I'll have to work this image in greyscale... 😑😑😑"
      ],
      "metadata": {
        "id": "A5ydegtDm9GY"
      }
    },
    {
      "cell_type": "code",
      "source": [
        "plt.imshow(image.squeeze(), cmap='gray')\n",
        "plt.title(classes[label]);\n",
        "plt.axis(False)"
      ],
      "metadata": {
        "colab": {
          "base_uri": "https://localhost:8080/",
          "height": 445
        },
        "id": "9SseFm78m6-x",
        "outputId": "922c32f8-e6c0-4153-d63d-11430b2684d7"
      },
      "execution_count": 21,
      "outputs": [
        {
          "output_type": "execute_result",
          "data": {
            "text/plain": [
              "(-0.5, 27.5, 27.5, -0.5)"
            ]
          },
          "metadata": {},
          "execution_count": 21
        },
        {
          "output_type": "display_data",
          "data": {
            "text/plain": [
              "<Figure size 640x480 with 1 Axes>"
            ],
            "image/png": "[encoded data removed]"
          },
          "metadata": {}
        }
      ]
    },
    {
      "cell_type": "code",
      "source": [
        "#plot random images.... manual seed is set to 42 to ensure consistency across devices\n",
        "torch.manual_seed(42)\n",
        "fig = plt.figure(figsize=(10,12))\n",
        "rows, cols = 4, 4\n",
        "for i in range(1, rows*cols+1):\n",
        "    random_idx = torch.randint(0, len(train_data), size=[1]).item()\n",
        "    img, label = train_data[random_idx]\n",
        "    fig.add_subplot(rows, cols, i)\n",
        "    plt.imshow(img.squeeze(), cmap='gray')\n",
        "    plt.title(classes[label])\n",
        "    plt.axis(False);"
      ],
      "metadata": {
        "id": "9Ixpt-m2oqG5"
      },
      "execution_count": null,
      "outputs": []
    },
    {
      "cell_type": "code",
      "source": [
        "# the first 16 images in the dataset and their corresponding labels\n",
        "fig = plt.figure(figsize=(10, 12))\n",
        "rows, cols = 4, 4\n",
        "\n",
        "# Loop over the first 16 images\n",
        "for i in range(1, rows*cols+1):\n",
        "    img, label = train_data[i-1]  # Get the image and label from the dataset\n",
        "    fig.add_subplot(rows, cols, i)  #\n",
        "    plt.imshow(img.squeeze(), cmap='gray')  # Display the image in grayscale\n",
        "    plt.title(classes[label])  # Set the title to the class name\n",
        "    plt.axis(False)"
      ],
      "metadata": {
        "id": "3JAE9SXlyQzS"
      },
      "execution_count": null,
      "outputs": []
    },
    {
      "cell_type": "code",
      "source": [],
      "metadata": {
        "id": "WdLVK8xGzB_G"
      },
      "execution_count": null,
      "outputs": []
    },
    {
      "cell_type": "markdown",
      "source": [
        "#3.preparin' dataloader\n",
        "\n",
        "why do we need the dataloader: the Dataloader turns our dataset into a python iterable... and also I want to breakup this data into minibatches.. it's more computationally efficient to go thru data in batches than at one.\n",
        "yh,\n",
        "\n",
        "---\n",
        "\n",
        "and also, It gives the neural network more chances to learn.\n",
        "(❁´◡`❁)👍👍👍"
      ],
      "metadata": {
        "id": "9U8jLcjPz2Zd"
      }
    },
    {
      "cell_type": "code",
      "source": [
        "from torch.utils.data import DataLoader\n",
        "\n",
        "BATCH_SIZE = 32\n",
        "\n",
        "#turn datasets into batches (iterables)\n",
        "train_dataloader = DataLoader(dataset=train_data,\n",
        "                              batch_size=BATCH_SIZE,\n",
        "                              shuffle=True)\n",
        "\n",
        "test_dataloader = DataLoader(dataset=test_data,\n",
        "                             batch_size=BATCH_SIZE,\n",
        "                             shuffle=False)\n",
        "\n",
        "train_dataloader, test_dataloader"
      ],
      "metadata": {
        "colab": {
          "base_uri": "https://localhost:8080/"
        },
        "id": "V0sf7zto1JTQ",
        "outputId": "c33e55e0-17ff-486a-9d94-02e97c3a30ef"
      },
      "execution_count": 29,
      "outputs": [
        {
          "output_type": "execute_result",
          "data": {
            "text/plain": [
              "(<torch.utils.data.dataloader.DataLoader at 0x7a2665fba980>,\n",
              " <torch.utils.data.dataloader.DataLoader at 0x7a2665fb8a90>)"
            ]
          },
          "metadata": {},
          "execution_count": 29
        }
      ]
    },
    {
      "cell_type": "code",
      "source": [
        "print(f'DataLoaders are loacated at: {train_dataloader, test_dataloader}')\n",
        "print(f'length of train_dataloader: {len(train_dataloader)} batches of {BATCH_SIZE}....')\n",
        "print(f'length of test_dataloader: {len(test_dataloader)} batches of {BATCH_SIZE}.....')"
      ],
      "metadata": {
        "colab": {
          "base_uri": "https://localhost:8080/"
        },
        "id": "ORmpkioL2dXo",
        "outputId": "8461e578-1cd5-4e77-b8e9-5bf55fc28beb"
      },
      "execution_count": 30,
      "outputs": [
        {
          "output_type": "stream",
          "name": "stdout",
          "text": [
            "DataLoaders are loacated at: (<torch.utils.data.dataloader.DataLoader object at 0x7a2665fba980>, <torch.utils.data.dataloader.DataLoader object at 0x7a2665fb8a90>)\n",
            "length of train_dataloader: 1875 batches of 32....\n",
            "length of test_dataloader: 313 batches of 32.....\n"
          ]
        }
      ]
    },
    {
      "cell_type": "code",
      "source": [
        "train_features_batch, train_labels_batch = next(iter(train_dataloader))\n",
        "train_features_batch.shape, train_labels_batch.shape"
      ],
      "metadata": {
        "colab": {
          "base_uri": "https://localhost:8080/"
        },
        "id": "NVxFR2Js2pwA",
        "outputId": "8077e39e-99ee-4ddd-9e5e-b395a5acbb5d"
      },
      "execution_count": 31,
      "outputs": [
        {
          "output_type": "execute_result",
          "data": {
            "text/plain": [
              "(torch.Size([32, 1, 28, 28]), torch.Size([32]))"
            ]
          },
          "metadata": {},
          "execution_count": 31
        }
      ]
    },
    {
      "cell_type": "code",
      "source": [
        "len(train_features_batch), len(train_labels_batch)"
      ],
      "metadata": {
        "colab": {
          "base_uri": "https://localhost:8080/"
        },
        "id": "Q2IYDri33D6O",
        "outputId": "c90464bb-8e13-41c6-ca0a-9d4b09282c54"
      },
      "execution_count": 32,
      "outputs": [
        {
          "output_type": "execute_result",
          "data": {
            "text/plain": [
              "(32, 32)"
            ]
          },
          "metadata": {},
          "execution_count": 32
        }
      ]
    },
    {
      "cell_type": "code",
      "source": [
        "#torch.manual_seed(42)\n",
        "random_idx = torch.randint(0, len(train_features_batch), size=[1]).item()\n",
        "img, label = train_features_batch[random_idx], train_labels_batch[random_idx]\n",
        "plt.imshow(img.squeeze(), cmap='gray')\n",
        "plt.title(classes[label])\n",
        "plt.axis(False)\n",
        "print(f'image size: {img.shape}')\n",
        "print(f'label: {label}, label size: {label.shape}')"
      ],
      "metadata": {
        "colab": {
          "base_uri": "https://localhost:8080/",
          "height": 463
        },
        "id": "mUp2wOWa3u8r",
        "outputId": "f6f333e0-71be-40cc-ea35-3242857e2f95"
      },
      "execution_count": 34,
      "outputs": [
        {
          "output_type": "stream",
          "name": "stdout",
          "text": [
            "image size: torch.Size([1, 28, 28])\n",
            "label: 1, label size: torch.Size([])\n"
          ]
        },
        {
          "output_type": "display_data",
          "data": {
            "text/plain": [
              "<Figure size 640x480 with 1 Axes>"
            ],
            "image/png": "[encoded data removed]"
          },
          "metadata": {}
        }
      ]
    },
    {
      "cell_type": "code",
      "source": [
        "import requests\n",
        "from pathlib import Path as path\n",
        "\n",
        "#download helper functions from learn pytorch repo\n",
        "if path('helper_function.py').is_file():\n",
        "    print('helper_function.py already exists, skipping download....')\n",
        "else:\n",
        "    print('downloading helper_function.py')\n",
        "    request = requests.get('https://raw.githubusercontent.com/mrdbourke/pytorch-deep-learning/main/helper_functions.py')\n",
        "    with open('helper_functions.py', 'wb') as f:\n",
        "        f.write(request.content)"
      ],
      "metadata": {
        "colab": {
          "base_uri": "https://localhost:8080/"
        },
        "id": "uF1ZrsFU4U19",
        "outputId": "226c27ad-b1c7-4dab-945e-10532055ca91"
      },
      "execution_count": 35,
      "outputs": [
        {
          "output_type": "stream",
          "name": "stdout",
          "text": [
            "downloading helper_function.py\n"
          ]
        }
      ]
    },
    {
      "cell_type": "code",
      "source": [
        "#device agnostic code\n",
        "device ='cuda' if torch.cuda.is_available() else 'cpu'\n",
        "device"
      ],
      "metadata": {
        "colab": {
          "base_uri": "https://localhost:8080/",
          "height": 36
        },
        "id": "gDG8k52k4tJL",
        "outputId": "4b0b9102-e42a-4551-e905-b2162250136c"
      },
      "execution_count": 36,
      "outputs": [
        {
          "output_type": "execute_result",
          "data": {
            "text/plain": [
              "'cpu'"
            ],
            "application/vnd.google.colaboratory.intrinsic+json": {
              "type": "string"
            }
          },
          "metadata": {},
          "execution_count": 36
        }
      ]
    },
    {
      "cell_type": "markdown",
      "source": [
        "#4.Functionizin' trainin' and evaluation/testin' loops. ➿➿➿➿➿\n",
        "\n",
        "* training loop --> `train_step()`\n",
        "* testing loop --> `test_step()`\n"
      ],
      "metadata": {
        "id": "TKV9LTZR45Sg"
      }
    },
    {
      "cell_type": "code",
      "source": [
        "def train_step(model: torch.nn.Module,\n",
        "               data_loader: torch.utils.data.DataLoader,\n",
        "               loss_fn: torch.nn.Module,\n",
        "               optimizer: torch.optim.Optimizer,\n",
        "               accuracy_fn,\n",
        "               device: torch.device = device):\n",
        "    \"\"\"performs trainin' with model trying to learn on data_loader.\"\"\"\n",
        "    train_loss, train_acc = 0, 0\n",
        "\n",
        "    #put model into training mode\n",
        "    model.train()\n",
        "\n",
        "    #add a loop to loop through the training batches\n",
        "    for batch, (X, y) in enumerate(data_loader):\n",
        "        #put data on target device\n",
        "        X, y = X.to(device), y.to(device)\n",
        "\n",
        "        #1. forward pass\n",
        "        y_pred = model(X)\n",
        "\n",
        "        #2. calculate loss per batch\n",
        "        loss = loss_fn(y_pred, y)\n",
        "        train_loss += loss # accumulate train loss\n",
        "        train_acc += accuracy_fn(y_true=y,\n",
        "                                 y_pred=y_pred.argmax(dim=1)) #go from logits -> predcition labels\n",
        "\n",
        "        #3. optimizer zerp grad\n",
        "        optimizer.zero_grad()\n",
        "\n",
        "        #4. loss backward\n",
        "        loss.backward()\n",
        "\n",
        "        #5. optimizer step (update the model once per batch)\n",
        "        optimizer.step()\n",
        "\n",
        "        #print out whats happening\n",
        "        if batch % 400 == 0:\n",
        "            print(f'looked at {batch * len(X)} / {len(train_dataloader.dataset)} samples')"
      ],
      "metadata": {
        "id": "ay0qi3ir6HMr"
      },
      "execution_count": 37,
      "outputs": []
    },
    {
      "cell_type": "code",
      "source": [
        "def test_step(model: torch.nn.Module,\n",
        "              data_loader: torch.utils.data.DataLoader,\n",
        "              loss_fn: torch.nn.Module,\n",
        "              accuracy_fn,\n",
        "              device: torch.device = device):\n",
        "    \"\"\"perform a testing loop step on model going over data_loader.\"\"\"\n",
        "    test_loss, test_acc = 0, 0\n",
        "\n",
        "    #put the model in eval mode\n",
        "    model.eval()\n",
        "\n",
        "    #turn on inference mode\n",
        "    with torch.inference_mode():\n",
        "        for X, y in data_loader:\n",
        "            #send the data to the target device\n",
        "            X, y = X.to(device), y.to(device)\n",
        "\n",
        "            #1. forward pass\n",
        "            test_pred = model(X)\n",
        "\n",
        "            #2. calculate the loss/acc\n",
        "            test_loss += loss_fn(test_pred, y)\n",
        "            test_acc += accuracy_fn(y_true=y,\n",
        "                                    y_pred=test_pred.argmax(dim=1)) # go from logits -> predictions\n",
        "\n",
        "        #adjust metrics and print out\n",
        "        test_loss /= len(data_loader)\n",
        "        test_acc /= len(data_loader)\n",
        "        print(f'test loss {test_loss: .5f} | test acc: {test_acc: 2f}% \\n')"
      ],
      "metadata": {
        "id": "kpkH2wIv7fXH"
      },
      "execution_count": 38,
      "outputs": []
    },
    {
      "cell_type": "code",
      "source": [
        "torch.manual_seed(42)\n",
        "def eval_model(model: torch.nn.Module,\n",
        "            data_loader: torch.utils.data.DataLoader,\n",
        "            loss_fn: torch.nn.Module,\n",
        "            accuracy_fn,\n",
        "            device: torch.device =device):\n",
        "    \"\"\"returns a dictionary containing the results of model predicting on data.\"\"\"\n",
        "    loss, acc = 0, 0\n",
        "    model.eval()\n",
        "    with torch.inference_mode():\n",
        "        for X, y in tqdm(data_loader):\n",
        "            #make our data device agnostic\n",
        "            X, y = X.to(device), y.to(device)\n",
        "            #make predictions\n",
        "            y_pred = model(X)\n",
        "\n",
        "            # accumulate the loss and accuracy values per batch\n",
        "            loss += loss_fn(y_pred, y)\n",
        "            acc += accuracy_fn(y_true=y,\n",
        "                               y_pred=y_pred.argmax(dim=1))\n",
        "\n",
        "        #scale loss and acc to find the average loss/acc per batch\n",
        "        loss /= len(data_loader)\n",
        "        acc /= len(data_loader)\n",
        "\n",
        "    return {'model_name': model.__class__.__name__, #only works when model was created with a class\n",
        "            'model_loss': loss.item(),\n",
        "            'model_acc': acc}"
      ],
      "metadata": {
        "id": "S3SyfNuP7iQB"
      },
      "execution_count": 39,
      "outputs": []
    },
    {
      "cell_type": "markdown",
      "source": [
        "#5.Model 2: building a convolutional Neural Network (CNN)\n",
        "\n",
        "Convolutional Neural Networks (CNNs) are a class of deep learning models primarily used for processing and analyzing visual data.\n",
        "\n",
        "😶‍🌫️😶‍🌫️😶‍🌫️😶‍🌫️😶‍🌫️"
      ],
      "metadata": {
        "id": "mzy4MNuO8ACQ"
      }
    },
    {
      "cell_type": "code",
      "source": [
        "#create a convolutional neural network also called CNNs\n",
        "class CNNmodelMNIST(nn.Module):\n",
        "    \"\"\"\n",
        "    Model architecture that replicates the TinyVGG\n",
        "    model from CNN explainer website.\n",
        "    \"\"\"\n",
        "\n",
        "    def __init__(self, input_shape: int, hidden_units: int, output_shape: int):\n",
        "        super().__init__()\n",
        "        self.conv_block_1 = nn.Sequential(\n",
        "            #create a conv layer\n",
        "            # https://poloclub.github.io/cnn-explainer/\n",
        "            nn.Conv2d(in_channels=input_shape,\n",
        "                      out_channels=hidden_units,\n",
        "                      kernel_size=3,\n",
        "                      stride=1,\n",
        "                      padding=1), # hyperparameters\n",
        "            nn.ReLU(),\n",
        "            nn.Conv2d(in_channels=hidden_units,\n",
        "                      out_channels=hidden_units,\n",
        "                      kernel_size=3,\n",
        "                      stride=1,\n",
        "                      padding=1),\n",
        "            nn.ReLU(),\n",
        "            nn.MaxPool2d(kernel_size=2)\n",
        "        ) #W(out) = ((W-kernelsize+(2*padding))/stride) + 1\n",
        "        self.conv_block_2 = nn.Sequential(\n",
        "            nn.Conv2d(in_channels=hidden_units,\n",
        "                      out_channels=hidden_units,\n",
        "                      kernel_size=3,\n",
        "                      stride=1,\n",
        "                      padding=1),\n",
        "            nn.ReLU(),\n",
        "            nn.Conv2d(in_channels=hidden_units,\n",
        "                      out_channels=hidden_units,\n",
        "                      kernel_size=3,\n",
        "                      stride=1,\n",
        "                      padding=1),\n",
        "            nn.ReLU(),\n",
        "            nn.MaxPool2d(kernel_size=2)\n",
        "        )\n",
        "        self.classifier = nn.Sequential(\n",
        "            nn.Flatten(),\n",
        "            nn.Linear(in_features=hidden_units*7*7, # there's a trick to calculating this\n",
        "                      out_features=output_shape)\n",
        "        )\n",
        "\n",
        "    def forward(self, x):\n",
        "        x = self.conv_block_1(x)\n",
        "        #print(f'Output shape of conv_block_1: {x.shape}')\n",
        "        x = self.conv_block_2(x)\n",
        "        #print(f'output shape of conv_block_2: {x.shape}')\n",
        "        x = self.classifier(x)\n",
        "        #print(f'output shape of classifier: {x.shape}')\n",
        "        return x\n"
      ],
      "metadata": {
        "id": "at-fmzqT745V"
      },
      "execution_count": 59,
      "outputs": []
    },
    {
      "cell_type": "markdown",
      "source": [
        "to understand the 7*7 in line 44 of the CNN model, `nn.Linear(in_features=hidden_unitsx7x7,`, we need to understand the shape of the last tensor than was pass into it, the shape of the last tensor that was passed into into it was [hidden_layer, 7, 7] so when its flattened it becomes hidden_layerx7x7.\n",
        "note to myself.. when i do nn.flatten, the shape of the next layer has to be changed..\n",
        "\n",
        "size of `in_features` after flattening --> hidden_layer * size of last layer."
      ],
      "metadata": {
        "id": "JXTprePRHnUz"
      }
    },
    {
      "cell_type": "code",
      "source": [
        "len(classes)"
      ],
      "metadata": {
        "colab": {
          "base_uri": "https://localhost:8080/"
        },
        "id": "HGDIoSqv8lAv",
        "outputId": "66dd308d-2a1e-4c6a-bac6-e67e3b422d9a"
      },
      "execution_count": 60,
      "outputs": [
        {
          "output_type": "execute_result",
          "data": {
            "text/plain": [
              "10"
            ]
          },
          "metadata": {},
          "execution_count": 60
        }
      ]
    },
    {
      "cell_type": "code",
      "source": [
        "torch.manual_seed(42)\n",
        "model_1 = CNNmodelMNIST(input_shape=1,\n",
        "                        hidden_units=12,\n",
        "                        output_shape=len(classes)).to(device)"
      ],
      "metadata": {
        "id": "47jea2Us-Jwu"
      },
      "execution_count": 61,
      "outputs": []
    },
    {
      "cell_type": "code",
      "source": [
        "#random tensor to test model and ensure all shapes match prop'ly\n",
        "rand_image_tensor = torch.randn(size=(1, 28, 28))\n",
        "rand_image_tensor = rand_image_tensor.unsqueeze(0)  # Add batch dimension\n",
        "output = model_1(rand_image_tensor)\n",
        "print(f'Output shape of conv_block_1: {output.shape}')"
      ],
      "metadata": {
        "colab": {
          "base_uri": "https://localhost:8080/"
        },
        "id": "utf1e49CFkrK",
        "outputId": "c372a279-9283-4d4c-a002-601f4fd0ecda"
      },
      "execution_count": 66,
      "outputs": [
        {
          "output_type": "stream",
          "name": "stdout",
          "text": [
            "Output shape of conv_block_1: torch.Size([1, 10])\n"
          ]
        }
      ]
    },
    {
      "cell_type": "code",
      "source": [
        "model_1(rand_image_tensor.unsqueeze(0))"
      ],
      "metadata": {
        "colab": {
          "base_uri": "https://localhost:8080/"
        },
        "id": "eYnsP7_fFc9P",
        "outputId": "1e2a4516-cd22-46f9-dda1-affb3ae9ed05"
      },
      "execution_count": 63,
      "outputs": [
        {
          "output_type": "execute_result",
          "data": {
            "text/plain": [
              "tensor([[ 0.0132,  0.0381, -0.0023, -0.0256, -0.0155,  0.0145,  0.0144, -0.1220,\n",
              "          0.0955, -0.0045]], grad_fn=<AddmmBackward0>)"
            ]
          },
          "metadata": {},
          "execution_count": 63
        }
      ]
    },
    {
      "cell_type": "code",
      "source": [
        "plt.imshow(image.squeeze(), cmap='gray')"
      ],
      "metadata": {
        "colab": {
          "base_uri": "https://localhost:8080/",
          "height": 447
        },
        "id": "2gaVbfXGFmPs",
        "outputId": "cd5c46e8-708e-4e52-f7b7-c0e10e3850fe"
      },
      "execution_count": 64,
      "outputs": [
        {
          "output_type": "execute_result",
          "data": {
            "text/plain": [
              "<matplotlib.image.AxesImage at 0x7a26639009d0>"
            ]
          },
          "metadata": {},
          "execution_count": 64
        },
        {
          "output_type": "display_data",
          "data": {
            "text/plain": [
              "<Figure size 640x480 with 1 Axes>"
            ],
            "image/png": "[encoded data removed]"
          },
          "metadata": {}
        }
      ]
    },
    {
      "cell_type": "markdown",
      "source": [
        "#6.performing tests... 🤔🤔\n",
        "* nn.Conv2d performs the convolution operation on 2-D input data, mostly images. For grayscale images, in_channels is 1. for RGB images, in_channels is 3.\n",
        "* Max pooling is a downsizingg operation commonly used in Convolutional Neural Networks (CNNs) to reduce the spatial dimensions of the feature maps while retaining the most important information."
      ],
      "metadata": {
        "id": "7s2R1xsxOBsQ"
      }
    },
    {
      "cell_type": "code",
      "source": [
        "torch.manual_seed(42)\n",
        "\n",
        "# Create a batch of images\n",
        "images = torch.randn(size=(32, 3, 64, 64))\n",
        "test_image = images[0]\n",
        "\n",
        "print(f'image batch shape: {images.shape}')\n",
        "print(f'single image shape: {test_image.shape}')\n",
        "print(f'test image: \\n {test_image}')"
      ],
      "metadata": {
        "id": "sVc-d6XIMvAr"
      },
      "execution_count": null,
      "outputs": []
    },
    {
      "cell_type": "code",
      "source": [
        "#LOOKIN' AT THE FUNCTIONALITY OF NN.CONV2d\n",
        "torch.manual_seed(42)\n",
        "# create a single conv2d layer\n",
        "conv_layer = nn.Conv2d(in_channels=3,\n",
        "                       out_channels=10,\n",
        "                       kernel_size=(3,3),\n",
        "                       stride=1,\n",
        "                       padding=0)\n",
        "\n",
        "# pass the data through the convolutional layer\n",
        "conv_output = conv_layer(test_image.unsqueeze(0))\n",
        "conv_output.shape"
      ],
      "metadata": {
        "colab": {
          "base_uri": "https://localhost:8080/"
        },
        "id": "g3aBc22KNZY9",
        "outputId": "bab8dded-6e8f-475c-d869-7c505b155c40"
      },
      "execution_count": 69,
      "outputs": [
        {
          "output_type": "execute_result",
          "data": {
            "text/plain": [
              "torch.Size([10, 62, 62])"
            ]
          },
          "metadata": {},
          "execution_count": 69
        }
      ]
    },
    {
      "cell_type": "code",
      "source": [
        "# print out original image shape without unsqueezed dimension\n",
        "print(f'test image original shape: {test_image.shape}')\n",
        "#print(f'test image with unsqueezed dimension: {test_image.unsqueeze(0).shape}')\n",
        "\n",
        "# create a sample nn.MaxPool2d layer\n",
        "max_pool_layer = nn.MaxPool2d(kernel_size=2)\n",
        "\n",
        "#pass data through just the conv_layer\n",
        "test_image_through_conv = conv_layer(test_image)\n",
        "print(f'shape after going through conv_layer(): {test_image_through_conv.shape}')\n",
        "\n",
        "#pass data through the max pool layer\n",
        "test_image_through_conv_and_max_pool = max_pool_layer(test_image_through_conv)\n",
        "print(f'shape after going thru conv_layer() and max_pool_layer(): {test_image_through_conv_and_max_pool.shape}')\n",
        "\n",
        "torch.manual_seed(42)\n",
        "#create a random tensor with a similar number of dimensions to our images\n",
        "random_tensor = torch.randn(size=(1, 1, 2, 2))\n",
        "print(f'\\nrandom tensor: \\n {random_tensor}')\n",
        "print(f'\\nrandom tensor shape: \\n {random_tensor.shape}')\n",
        "\n",
        "\n",
        "#create a max pool layer\n",
        "max_pool_layer = nn.MaxPool2d(kernel_size=2)\n",
        "\n",
        "#pass the random tensor through the max pool layer\n",
        "max_pool_tensor = max_pool_layer(random_tensor)\n",
        "print(f'\\nMax Pool tensor: \\n {max_pool_tensor}')\n",
        "print(f'Max pool tensor shape: {max_pool_tensor.shape}')"
      ],
      "metadata": {
        "colab": {
          "base_uri": "https://localhost:8080/"
        },
        "id": "TXPN2m90Ov-8",
        "outputId": "9c225a40-5b35-4293-d176-bb7d6f7e34ef"
      },
      "execution_count": 70,
      "outputs": [
        {
          "output_type": "stream",
          "name": "stdout",
          "text": [
            "test image original shape: torch.Size([3, 64, 64])\n",
            "shape after going through conv_layer(): torch.Size([10, 62, 62])\n",
            "shape after going thru conv_layer() and max_pool_layer(): torch.Size([10, 31, 31])\n",
            "\n",
            "random tensor: \n",
            " tensor([[[[0.3367, 0.1288],\n",
            "          [0.2345, 0.2303]]]])\n",
            "\n",
            "random tensor shape: \n",
            " torch.Size([1, 1, 2, 2])\n",
            "\n",
            "Max Pool tensor: \n",
            " tensor([[[[0.3367]]]])\n",
            "Max pool tensor shape: torch.Size([1, 1, 1, 1])\n"
          ]
        }
      ]
    },
    {
      "cell_type": "markdown",
      "source": [
        "#7.setting up a loss and optimizer function for `model_1`"
      ],
      "metadata": {
        "id": "qPHdw1SuQC8b"
      }
    },
    {
      "cell_type": "code",
      "source": [
        "#setup loss function/eval metrics/optimizer\n",
        "from helper_functions import accuracy_fn\n",
        "\n",
        "loss_fn = nn.CrossEntropyLoss()\n",
        "optimizer = torch.optim.Adam(params=model_1.parameters(),\n",
        "                             lr=0.001)"
      ],
      "metadata": {
        "id": "3mXyj0mgQQ1X"
      },
      "execution_count": 72,
      "outputs": []
    },
    {
      "cell_type": "markdown",
      "source": [
        "in the loss and optimzer function above, I used Adam evn though I suspect that SGD might be better."
      ],
      "metadata": {
        "id": "MCvAb7hzQWue"
      }
    },
    {
      "cell_type": "markdown",
      "source": [
        "#8.Trainin' 🏃‍♂️🏃‍♂️🏃‍♂️"
      ],
      "metadata": {
        "id": "qBn-z2AiRYD1"
      }
    },
    {
      "cell_type": "code",
      "source": [
        "%%time\n",
        "torch.manual_seed(42)\n",
        "torch.cuda.manual_seed(42)\n",
        "\n",
        "#train and test model\n",
        "epochs = 3\n",
        "for epoch in tqdm(range(epochs)):\n",
        "    print(f'epoch: {epoch}\\n``````````````````')\n",
        "    train_step(model=model_1,\n",
        "               data_loader=train_dataloader,\n",
        "               loss_fn=loss_fn,\n",
        "               optimizer=optimizer,\n",
        "               accuracy_fn=accuracy_fn,\n",
        "               device=device)\n",
        "    test_step(model=model_1,\n",
        "              data_loader=test_dataloader,\n",
        "              loss_fn=loss_fn,\n",
        "              accuracy_fn=accuracy_fn,\n",
        "              device=device)\n"
      ],
      "metadata": {
        "colab": {
          "base_uri": "https://localhost:8080/",
          "height": 552,
          "referenced_widgets": [
            "cc8d16e52d7f49e5bd54bf9e20b9ba6c",
            "464ac4963dfb472895058ef18b78ecbc",
            "9fd092c22e054b32b9ddce600d10e154",
            "37006b32fc1741108210dcc595390f71",
            "662d3f8191984bf98b09d181de4b5755",
            "b1b5b0f41a72419fbf5b108f30f0498b",
            "b1a3508a22b14d5c8083d5e9543ad153",
            "2086389672244e7792731cb4995e19d7",
            "43d0ef693207492baae6e8a59d715376",
            "6c58f978d69b408191b65eb2f5ca2f94",
            "b45357d7fb24409598ca16d2624580d0"
          ]
        },
        "id": "3ubTv1iBRvCM",
        "outputId": "a48967eb-48d6-4758-8922-81ea4e74a9fa"
      },
      "execution_count": 74,
      "outputs": [
        {
          "output_type": "display_data",
          "data": {
            "text/plain": [
              "  0%|          | 0/3 [00:00<?, ?it/s]"
            ],
            "application/vnd.jupyter.widget-view+json": {
              "version_major": 2,
              "version_minor": 0,
              "model_id": "cc8d16e52d7f49e5bd54bf9e20b9ba6c"
            }
          },
          "metadata": {}
        },
        {
          "output_type": "stream",
          "name": "stdout",
          "text": [
            "epoch: 0\n",
            "``````````````````\n",
            "looked at 0 / 60000 samples\n",
            "looked at 12800 / 60000 samples\n",
            "looked at 25600 / 60000 samples\n",
            "looked at 38400 / 60000 samples\n",
            "looked at 51200 / 60000 samples\n",
            "test loss  0.08108 | test acc:  97.533946% \n",
            "\n",
            "epoch: 1\n",
            "``````````````````\n",
            "looked at 0 / 60000 samples\n",
            "looked at 12800 / 60000 samples\n",
            "looked at 25600 / 60000 samples\n",
            "looked at 38400 / 60000 samples\n",
            "looked at 51200 / 60000 samples\n",
            "test loss  0.05027 | test acc:  98.372604% \n",
            "\n",
            "epoch: 2\n",
            "``````````````````\n",
            "looked at 0 / 60000 samples\n",
            "looked at 12800 / 60000 samples\n",
            "looked at 25600 / 60000 samples\n",
            "looked at 38400 / 60000 samples\n",
            "looked at 51200 / 60000 samples\n",
            "test loss  0.04390 | test acc:  98.612220% \n",
            "\n",
            "CPU times: user 3min 9s, sys: 919 ms, total: 3min 10s\n",
            "Wall time: 3min 12s\n"
          ]
        }
      ]
    },
    {
      "cell_type": "code",
      "source": [
        "# get model_1 results\n",
        "model_1_results = eval_model(\n",
        "    model=model_1,\n",
        "    data_loader=test_dataloader,\n",
        "    loss_fn=loss_fn,\n",
        "    accuracy_fn=accuracy_fn,\n",
        ")\n",
        "model_1_results"
      ],
      "metadata": {
        "colab": {
          "base_uri": "https://localhost:8080/",
          "height": 101,
          "referenced_widgets": [
            "fa92e17688be41b7a04633079ac5190d",
            "81020f4a68394fae815cc62d3a3c5648",
            "7c113f517a0f4581a009455c017e6e4f",
            "0a166fb8ac6645079dc3cb0c90176233",
            "471965f2754e4738acb4e21ae1925029",
            "0c08115d05fb4fc0b8201ae201217873",
            "36fbc21a6186471cb36c7aa40c230745",
            "3f44eb89e37e4239b95f3387896da4ad",
            "671e39622ed84f88999deb6166a5245e",
            "a21ed283d63f417d92fd76bfe25d8d3f",
            "81f25865a93a4c9fa082910acd86ca6e"
          ]
        },
        "id": "xTureJ6PSaMv",
        "outputId": "a60fbca9-a102-41f8-ea40-1723477ba9a5"
      },
      "execution_count": 76,
      "outputs": [
        {
          "output_type": "display_data",
          "data": {
            "text/plain": [
              "  0%|          | 0/313 [00:00<?, ?it/s]"
            ],
            "application/vnd.jupyter.widget-view+json": {
              "version_major": 2,
              "version_minor": 0,
              "model_id": "fa92e17688be41b7a04633079ac5190d"
            }
          },
          "metadata": {}
        },
        {
          "output_type": "execute_result",
          "data": {
            "text/plain": [
              "{'model_name': 'CNNmodelMNIST',\n",
              " 'model_loss': 0.04390186443924904,\n",
              " 'model_acc': 98.61222044728434}"
            ]
          },
          "metadata": {},
          "execution_count": 76
        }
      ]
    },
    {
      "cell_type": "code",
      "source": [
        "compare_results = pd.DataFrame([model_1_results])\n",
        "compare_results"
      ],
      "metadata": {
        "colab": {
          "base_uri": "https://localhost:8080/",
          "height": 89
        },
        "id": "HBgr42mrT2E2",
        "outputId": "9bfb4594-ed29-4fa3-c8b0-447baaa9e1c3"
      },
      "execution_count": 79,
      "outputs": [
        {
          "output_type": "execute_result",
          "data": {
            "text/plain": [
              "      model_name  model_loss  model_acc\n",
              "0  CNNmodelMNIST    0.043902   98.61222"
            ],
            "text/html": [
              "\n",
              "  <div id=\"df-ad82e92d-0dea-43b3-b44b-16871cc1fa2f\" class=\"colab-df-container\">\n",
              "    <div>\n",
              "<style scoped>\n",
              "    .dataframe tbody tr th:only-of-type {\n",
              "        vertical-align: middle;\n",
              "    }\n",
              "\n",
              "    .dataframe tbody tr th {\n",
              "        vertical-align: top;\n",
              "    }\n",
              "\n",
              "    .dataframe thead th {\n",
              "        text-align: right;\n",
              "    }\n",
              "</style>\n",
              "<table border=\"1\" class=\"dataframe\">\n",
              "  <thead>\n",
              "    <tr style=\"text-align: right;\">\n",
              "      <th></th>\n",
              "      <th>model_name</th>\n",
              "      <th>model_loss</th>\n",
              "      <th>model_acc</th>\n",
              "    </tr>\n",
              "  </thead>\n",
              "  <tbody>\n",
              "    <tr>\n",
              "      <th>0</th>\n",
              "      <td>CNNmodelMNIST</td>\n",
              "      <td>0.043902</td>\n",
              "      <td>98.61222</td>\n",
              "    </tr>\n",
              "  </tbody>\n",
              "</table>\n",
              "</div>\n",
              "    <div class=\"colab-df-buttons\">\n",
              "\n",
              "  <div class=\"colab-df-container\">\n",
              "    <button class=\"colab-df-convert\" onclick=\"convertToInteractive('df-ad82e92d-0dea-43b3-b44b-16871cc1fa2f')\"\n",
              "            title=\"Convert this dataframe to an interactive table.\"\n",
              "            style=\"display:none;\">\n",
              "\n",
              "  <svg xmlns=\"http://www.w3.org/2000/svg\" height=\"24px\" viewBox=\"0 -960 960 960\">\n",
              "    <path d=\"M120-120v-720h720v720H120Zm60-500h600v-160H180v160Zm220 220h160v-160H400v160Zm0 220h160v-160H400v160ZM180-400h160v-160H180v160Zm440 0h160v-160H620v160ZM180-180h160v-160H180v160Zm440 0h160v-160H620v160Z\"/>\n",
              "  </svg>\n",
              "    </button>\n",
              "\n",
              "  <style>\n",
              "    .colab-df-container {\n",
              "      display:flex;\n",
              "      gap: 12px;\n",
              "    }\n",
              "\n",
              "    .colab-df-convert {\n",
              "      background-color: #E8F0FE;\n",
              "      border: none;\n",
              "      border-radius: 50%;\n",
              "      cursor: pointer;\n",
              "      display: none;\n",
              "      fill: #1967D2;\n",
              "      height: 32px;\n",
              "      padding: 0 0 0 0;\n",
              "      width: 32px;\n",
              "    }\n",
              "\n",
              "    .colab-df-convert:hover {\n",
              "      background-color: #E2EBFA;\n",
              "      box-shadow: 0px 1px 2px rgba(60, 64, 67, 0.3), 0px 1px 3px 1px rgba(60, 64, 67, 0.15);\n",
              "      fill: #174EA6;\n",
              "    }\n",
              "\n",
              "    .colab-df-buttons div {\n",
              "      margin-bottom: 4px;\n",
              "    }\n",
              "\n",
              "    [theme=dark] .colab-df-convert {\n",
              "      background-color: #3B4455;\n",
              "      fill: #D2E3FC;\n",
              "    }\n",
              "\n",
              "    [theme=dark] .colab-df-convert:hover {\n",
              "      background-color: #434B5C;\n",
              "      box-shadow: 0px 1px 3px 1px rgba(0, 0, 0, 0.15);\n",
              "      filter: drop-shadow(0px 1px 2px rgba(0, 0, 0, 0.3));\n",
              "      fill: #FFFFFF;\n",
              "    }\n",
              "  </style>\n",
              "\n",
              "    <script>\n",
              "      const buttonEl =\n",
              "        document.querySelector('#df-ad82e92d-0dea-43b3-b44b-16871cc1fa2f button.colab-df-convert');\n",
              "      buttonEl.style.display =\n",
              "        google.colab.kernel.accessAllowed ? 'block' : 'none';\n",
              "\n",
              "      async function convertToInteractive(key) {\n",
              "        const element = document.querySelector('#df-ad82e92d-0dea-43b3-b44b-16871cc1fa2f');\n",
              "        const dataTable =\n",
              "          await google.colab.kernel.invokeFunction('convertToInteractive',\n",
              "                                                    [key], {});\n",
              "        if (!dataTable) return;\n",
              "\n",
              "        const docLinkHtml = 'Like what you see? Visit the ' +\n",
              "          '<a target=\"_blank\" href=https://colab.research.google.com/notebooks/data_table.ipynb>data table notebook</a>'\n",
              "          + ' to learn more about interactive tables.';\n",
              "        element.innerHTML = '';\n",
              "        dataTable['output_type'] = 'display_data';\n",
              "        await google.colab.output.renderOutput(dataTable, element);\n",
              "        const docLink = document.createElement('div');\n",
              "        docLink.innerHTML = docLinkHtml;\n",
              "        element.appendChild(docLink);\n",
              "      }\n",
              "    </script>\n",
              "  </div>\n",
              "\n",
              "\n",
              "  <div id=\"id_a014ed43-9db1-4516-8d34-081c0243d7fc\">\n",
              "    <style>\n",
              "      .colab-df-generate {\n",
              "        background-color: #E8F0FE;\n",
              "        border: none;\n",
              "        border-radius: 50%;\n",
              "        cursor: pointer;\n",
              "        display: none;\n",
              "        fill: #1967D2;\n",
              "        height: 32px;\n",
              "        padding: 0 0 0 0;\n",
              "        width: 32px;\n",
              "      }\n",
              "\n",
              "      .colab-df-generate:hover {\n",
              "        background-color: #E2EBFA;\n",
              "        box-shadow: 0px 1px 2px rgba(60, 64, 67, 0.3), 0px 1px 3px 1px rgba(60, 64, 67, 0.15);\n",
              "        fill: #174EA6;\n",
              "      }\n",
              "\n",
              "      [theme=dark] .colab-df-generate {\n",
              "        background-color: #3B4455;\n",
              "        fill: #D2E3FC;\n",
              "      }\n",
              "\n",
              "      [theme=dark] .colab-df-generate:hover {\n",
              "        background-color: #434B5C;\n",
              "        box-shadow: 0px 1px 3px 1px rgba(0, 0, 0, 0.15);\n",
              "        filter: drop-shadow(0px 1px 2px rgba(0, 0, 0, 0.3));\n",
              "        fill: #FFFFFF;\n",
              "      }\n",
              "    </style>\n",
              "    <button class=\"colab-df-generate\" onclick=\"generateWithVariable('compare_results')\"\n",
              "            title=\"Generate code using this dataframe.\"\n",
              "            style=\"display:none;\">\n",
              "\n",
              "  <svg xmlns=\"http://www.w3.org/2000/svg\" height=\"24px\"viewBox=\"0 0 24 24\"\n",
              "       width=\"24px\">\n",
              "    <path d=\"M7,19H8.4L18.45,9,17,7.55,7,17.6ZM5,21V16.75L18.45,3.32a2,2,0,0,1,2.83,0l1.4,1.43a1.91,1.91,0,0,1,.58,1.4,1.91,1.91,0,0,1-.58,1.4L9.25,21ZM18.45,9,17,7.55Zm-12,3A5.31,5.31,0,0,0,4.9,8.1,5.31,5.31,0,0,0,1,6.5,5.31,5.31,0,0,0,4.9,4.9,5.31,5.31,0,0,0,6.5,1,5.31,5.31,0,0,0,8.1,4.9,5.31,5.31,0,0,0,12,6.5,5.46,5.46,0,0,0,6.5,12Z\"/>\n",
              "  </svg>\n",
              "    </button>\n",
              "    <script>\n",
              "      (() => {\n",
              "      const buttonEl =\n",
              "        document.querySelector('#id_a014ed43-9db1-4516-8d34-081c0243d7fc button.colab-df-generate');\n",
              "      buttonEl.style.display =\n",
              "        google.colab.kernel.accessAllowed ? 'block' : 'none';\n",
              "\n",
              "      buttonEl.onclick = () => {\n",
              "        google.colab.notebook.generateWithVariable('compare_results');\n",
              "      }\n",
              "      })();\n",
              "    </script>\n",
              "  </div>\n",
              "\n",
              "    </div>\n",
              "  </div>\n"
            ],
            "application/vnd.google.colaboratory.intrinsic+json": {
              "type": "dataframe",
              "variable_name": "compare_results",
              "summary": "{\n  \"name\": \"compare_results\",\n  \"rows\": 1,\n  \"fields\": [\n    {\n      \"column\": \"model_name\",\n      \"properties\": {\n        \"dtype\": \"string\",\n        \"num_unique_values\": 1,\n        \"samples\": [\n          \"CNNmodelMNIST\"\n        ],\n        \"semantic_type\": \"\",\n        \"description\": \"\"\n      }\n    },\n    {\n      \"column\": \"model_loss\",\n      \"properties\": {\n        \"dtype\": \"number\",\n        \"std\": null,\n        \"min\": 0.04390186443924904,\n        \"max\": 0.04390186443924904,\n        \"num_unique_values\": 1,\n        \"samples\": [\n          0.04390186443924904\n        ],\n        \"semantic_type\": \"\",\n        \"description\": \"\"\n      }\n    },\n    {\n      \"column\": \"model_acc\",\n      \"properties\": {\n        \"dtype\": \"number\",\n        \"std\": null,\n        \"min\": 98.61222044728434,\n        \"max\": 98.61222044728434,\n        \"num_unique_values\": 1,\n        \"samples\": [\n          98.61222044728434\n        ],\n        \"semantic_type\": \"\",\n        \"description\": \"\"\n      }\n    }\n  ]\n}"
            }
          },
          "metadata": {},
          "execution_count": 79
        }
      ]
    },
    {
      "cell_type": "code",
      "source": [
        "compare_results.set_index('model_name')['model_acc'].plot(kind='barh')\n",
        "plt.xlabel(\"accuracy (%) \")\n",
        "plt.ylabel('model');"
      ],
      "metadata": {
        "colab": {
          "base_uri": "https://localhost:8080/",
          "height": 449
        },
        "id": "o8jAPXegT_5G",
        "outputId": "5abf8894-a370-4500-b38a-04b79231b471"
      },
      "execution_count": 81,
      "outputs": [
        {
          "output_type": "display_data",
          "data": {
            "text/plain": [
              "<Figure size 640x480 with 1 Axes>"
            ],
            "image/png": "[encoded data removed]"
          },
          "metadata": {}
        }
      ]
    },
    {
      "cell_type": "markdown",
      "source": [
        "#9. making predictions with test data"
      ],
      "metadata": {
        "id": "iWU0fJTgUTp_"
      }
    },
    {
      "cell_type": "code",
      "source": [
        "def make_predictions(model: torch.nn.Module,\n",
        "                     data: list,\n",
        "                     device: torch.device = device):\n",
        "\n",
        "    pred_probs = []\n",
        "    model.to(device)\n",
        "    model.eval()\n",
        "    with torch.inference_mode():\n",
        "        for sample in data:\n",
        "            # prepare the sample (add a batch dimension and pass to target device)\n",
        "            sample = torch.unsqueeze(sample, dim=0).to(device)\n",
        "\n",
        "            #forward pass (model outputs raw logits)\n",
        "            pred_logit = model(sample)\n",
        "\n",
        "            #get prediction probability (logit -> prediction probabilty)\n",
        "            pred_prob = torch.softmax(pred_logit.squeeze(), dim=0)\n",
        "\n",
        "            #get pred_prob off the GPU for further calculations\n",
        "            pred_probs.append(pred_prob.cpu())\n",
        "\n",
        "    #stack the pred_probs to turn list into a tensor\n",
        "    return torch.stack(pred_probs)\n"
      ],
      "metadata": {
        "id": "8LM2gA4HVdlS"
      },
      "execution_count": 82,
      "outputs": []
    },
    {
      "cell_type": "code",
      "source": [
        "import random\n",
        "#random.seed(42)\n",
        "test_samples = []\n",
        "test_labels = []\n",
        "for sample, label in random.sample(list(test_data), k=9):\n",
        "    test_samples.append(sample)\n",
        "    test_labels.append(label)\n",
        "\n",
        "#view the first sample shape\n",
        "test_samples[0].shape"
      ],
      "metadata": {
        "colab": {
          "base_uri": "https://localhost:8080/"
        },
        "id": "EMzY_EPhVfqA",
        "outputId": "c14866ad-e2ab-4391-e45c-a911788cf061"
      },
      "execution_count": 83,
      "outputs": [
        {
          "output_type": "execute_result",
          "data": {
            "text/plain": [
              "torch.Size([1, 28, 28])"
            ]
          },
          "metadata": {},
          "execution_count": 83
        }
      ]
    },
    {
      "cell_type": "code",
      "source": [
        "plt.imshow(test_samples[0].squeeze(), cmap='gray')\n",
        "plt.title(class_names[test_labels[0]])"
      ],
      "metadata": {
        "colab": {
          "base_uri": "https://localhost:8080/",
          "height": 469
        },
        "id": "6W7ue9AHVqV7",
        "outputId": "4632512e-daa9-408c-94e8-ef87bcd5f0a5"
      },
      "execution_count": 84,
      "outputs": [
        {
          "output_type": "execute_result",
          "data": {
            "text/plain": [
              "Text(0.5, 1.0, '0 - zero')"
            ]
          },
          "metadata": {},
          "execution_count": 84
        },
        {
          "output_type": "display_data",
          "data": {
            "text/plain": [
              "<Figure size 640x480 with 1 Axes>"
            ],
            "image/png": "[encoded data removed]"
          },
          "metadata": {}
        }
      ]
    },
    {
      "cell_type": "code",
      "source": [
        "#make predictions\n",
        "pred_probs = make_predictions(model=model_1,\n",
        "                              data=test_samples)\n",
        "\n",
        "#view first 2 prediction probabilites\n",
        "pred_probs[:2]"
      ],
      "metadata": {
        "colab": {
          "base_uri": "https://localhost:8080/"
        },
        "id": "SUxnrlcwWAUz",
        "outputId": "91e272d9-579d-447d-850e-6552fa17eefa"
      },
      "execution_count": 85,
      "outputs": [
        {
          "output_type": "execute_result",
          "data": {
            "text/plain": [
              "tensor([[9.9998e-01, 3.1929e-13, 5.9425e-07, 3.0140e-10, 1.9869e-07, 6.9578e-09,\n",
              "         1.7995e-05, 2.1481e-09, 8.4560e-08, 1.5074e-07],\n",
              "        [3.9310e-09, 4.9526e-11, 1.5554e-04, 9.9984e-01, 3.4549e-13, 1.0134e-08,\n",
              "         5.4478e-16, 3.5032e-08, 7.3262e-08, 2.1642e-07]])"
            ]
          },
          "metadata": {},
          "execution_count": 85
        }
      ]
    },
    {
      "cell_type": "code",
      "source": [
        "test_labels\n"
      ],
      "metadata": {
        "colab": {
          "base_uri": "https://localhost:8080/"
        },
        "id": "Y1sDvfsFWgmB",
        "outputId": "034693b5-f7e6-4501-ed9b-aebc3f12f4b0"
      },
      "execution_count": 86,
      "outputs": [
        {
          "output_type": "execute_result",
          "data": {
            "text/plain": [
              "[0, 3, 4, 1, 0, 8, 4, 2, 3]"
            ]
          },
          "metadata": {},
          "execution_count": 86
        }
      ]
    },
    {
      "cell_type": "code",
      "source": [
        "pred_classes = pred_probs.argmax(dim=1)\n",
        "pred_classes\n",
        ""
      ],
      "metadata": {
        "colab": {
          "base_uri": "https://localhost:8080/"
        },
        "id": "JP-rEdu_WkR7",
        "outputId": "bfe15ad8-658e-4e7f-f5c7-ee42583d2193"
      },
      "execution_count": 87,
      "outputs": [
        {
          "output_type": "execute_result",
          "data": {
            "text/plain": [
              "tensor([0, 3, 4, 1, 0, 8, 4, 2, 3])"
            ]
          },
          "metadata": {},
          "execution_count": 87
        }
      ]
    },
    {
      "cell_type": "code",
      "source": [
        "# plot predictions\n",
        "plt.figure(figsize=(9, 9))\n",
        "nrows = 3\n",
        "ncols = 3\n",
        "for i, sample in enumerate(test_samples):\n",
        "    #create subplot\n",
        "    plt.subplot(nrows, ncols, i+1)\n",
        "\n",
        "    #plot the target image\n",
        "    plt.imshow(sample.squeeze(), cmap='gray')\n",
        "\n",
        "    #find the prediction (in text form, e.g 'sandal')\n",
        "    pred_label = classes[pred_classes[i]]\n",
        "\n",
        "    #get the truth label (in text form)\n",
        "    truth_label = classes[test_labels[i]]\n",
        "\n",
        "    #create a title for the plot\n",
        "    title_text = f'pred: {pred_label} | truth: {truth_label}'\n",
        "\n",
        "    #check for equality between pred and truth and change color of title text\n",
        "    if pred_label == truth_label:\n",
        "        plt.title(title_text, fontsize=10, c='g') #green txt if prediction's same as truth label\n",
        "    else:\n",
        "        plt.title(title_text, fontsize=10, c='r')\n",
        "\n",
        "    #plt.axis(False);\n",
        ""
      ],
      "metadata": {
        "colab": {
          "base_uri": "https://localhost:8080/",
          "height": 773
        },
        "id": "Xae0ErbsWmyk",
        "outputId": "80836091-c060-4710-ed1b-50af061bb200"
      },
      "execution_count": 91,
      "outputs": [
        {
          "output_type": "display_data",
          "data": {
            "text/plain": [
              "<Figure size 900x900 with 9 Axes>"
            ],
            "image/png": "[encoded data removed]"
          },
          "metadata": {}
        }
      ]
    },
    {
      "cell_type": "code",
      "source": [
        "#no seed is set to ensure actual randomness\n",
        "\n",
        "# Sample 9 random images from the test data, k means keyword arguement\n",
        "sampled_data = random.sample(list(test_data), k=9)\n",
        "test_samples = [item[0] for item in sampled_data]\n",
        "test_labels = [item[1] for item in sampled_data]\n",
        "\n",
        "test_samples_tensor = torch.stack(test_samples).to(device)\n",
        "model_1.eval()\n",
        "with torch.no_grad():\n",
        "    output = model_1(test_samples_tensor)\n",
        "pred_classes = output.argmax(dim=1).cpu().numpy()\n",
        "\n",
        "# Plot predictions\n",
        "plt.figure(figsize=(9, 9))\n",
        "nrows = 3\n",
        "ncols = 3\n",
        "for i, sample in enumerate(test_samples):\n",
        "    # Create subplot\n",
        "    plt.subplot(nrows, ncols, i + 1)\n",
        "\n",
        "    plt.imshow(sample.squeeze(), cmap='gray')\n",
        "\n",
        "    pred_label = classes[pred_classes[i]]\n",
        "    truth_label = classes[test_labels[i]]\n",
        "\n",
        "    # Create a title for the plot\n",
        "    title_text = f'pred: {pred_label} | truth: {truth_label}'\n",
        "\n",
        "    # Check for equality between pred and truth and change color of title text\n",
        "    if pred_label == truth_label:\n",
        "        plt.title(title_text, fontsize=10, c='g')  # Green text if prediction's same as truth label\n",
        "    else:\n",
        "        plt.title(title_text, fontsize=10, c='r')  # Red text if prediction's different from truth label\n",
        "\n",
        "    plt.axis('off');  # Remove axis\n",
        "\n"
      ],
      "metadata": {
        "colab": {
          "base_uri": "https://localhost:8080/",
          "height": 749
        },
        "id": "Cy0tnAfnbGOQ",
        "outputId": "7e082c3a-4949-483b-c066-d728ec6c2840"
      },
      "execution_count": 123,
      "outputs": [
        {
          "output_type": "display_data",
          "data": {
            "text/plain": [
              "<Figure size 900x900 with 9 Axes>"
            ],
            "image/png": "[encoded data removed]"
          },
          "metadata": {}
        }
      ]
    },
    {
      "cell_type": "code",
      "source": [
        "import mlxtend\n",
        "from torchmetrics import ConfusionMatrix\n",
        "from tqdm.auto import tqdm\n",
        "\n",
        "#1. make predictions with trained data\n",
        "y_preds =[]\n",
        "model_1.eval()\n",
        "with torch.inference_mode():\n",
        "    for X, y in tqdm(test_dataloader, desc='making prediction....'):\n",
        "        #send the data and targets to target device\n",
        "        X, y = X.to(device), y.to(device)\n",
        "        #do the forward pass\n",
        "        y_logit = model_1(X)\n",
        "        #turn predictions from logits -> prediction probabilities -> prediction labels\n",
        "        y_pred = torch.softmax(y_logit.squeeze(), dim=0).argmax(dim=1)\n",
        "        #put predictions on CPU for evaluation\n",
        "        y_preds.append(y_pred.cpu())\n",
        "\n",
        "#concatenate list of predictions into a tensor\n",
        "#print(y_preds)\n",
        "y_pred_tensor = torch.cat(y_preds)\n",
        "y_pred_tensor[:10]"
      ],
      "metadata": {
        "colab": {
          "base_uri": "https://localhost:8080/",
          "height": 66,
          "referenced_widgets": [
            "9b256b8a23cc440da6f7f6d2b5c864a1",
            "7e0f66e949634221a25df5d25c0a65bb",
            "887e0525fd8240ff895ff9d54b1b7de1",
            "2a3f1d471b20465e9d0831bc7c647f4e",
            "85b458e6fb9d4782ba08c9f77b887417",
            "725da2e2a98f47338fe5a8c7829c1fcc",
            "8b1ce7a2e37643a38ea3e623f1263579",
            "659bec6119f7495280c22916529cf835",
            "8c866f8e84f545818c42d2ba5a94ce6b",
            "6e74a43a4a9344bea63181f281be7d69",
            "f179cdb9cc674d159448ccb1d717e90e"
          ]
        },
        "id": "A4K8KkUvW5PH",
        "outputId": "1eba88cb-ada3-4c95-babc-403c4a07a2ce"
      },
      "execution_count": 98,
      "outputs": [
        {
          "output_type": "display_data",
          "data": {
            "text/plain": [
              "making prediction....:   0%|          | 0/313 [00:00<?, ?it/s]"
            ],
            "application/vnd.jupyter.widget-view+json": {
              "version_major": 2,
              "version_minor": 0,
              "model_id": "9b256b8a23cc440da6f7f6d2b5c864a1"
            }
          },
          "metadata": {}
        },
        {
          "output_type": "execute_result",
          "data": {
            "text/plain": [
              "tensor([7, 2, 1, 0, 4, 1, 8, 8, 8, 9])"
            ]
          },
          "metadata": {},
          "execution_count": 98
        }
      ]
    },
    {
      "cell_type": "code",
      "source": [
        "len(y_pred_tensor)\n"
      ],
      "metadata": {
        "colab": {
          "base_uri": "https://localhost:8080/"
        },
        "id": "XN1rDqSiXiHh",
        "outputId": "c9abe5ce-7802-4715-d8f4-d2c9b6d35680"
      },
      "execution_count": 99,
      "outputs": [
        {
          "output_type": "execute_result",
          "data": {
            "text/plain": [
              "10000"
            ]
          },
          "metadata": {},
          "execution_count": 99
        }
      ]
    },
    {
      "cell_type": "code",
      "source": [
        "from torchmetrics import ConfusionMatrix\n",
        "from mlxtend.plotting import plot_confusion_matrix\n",
        "\n",
        "#2. setup confusion instance and compare predictions to targets\n",
        "confmat = ConfusionMatrix(task='multiclass', num_classes=len(classes))\n",
        "confmat_tensor = confmat(preds=y_pred_tensor,\n",
        "                         target=test_data.targets)\n",
        "\n",
        "#3. plot the confusion matrix\n",
        "fig, ax = plot_confusion_matrix(\n",
        "    conf_mat = confmat_tensor.numpy(),\n",
        "    class_names=classes,\n",
        "    figsize=(10, 7)\n",
        ")"
      ],
      "metadata": {
        "colab": {
          "base_uri": "https://localhost:8080/",
          "height": 660
        },
        "id": "6ve46LXUXqLo",
        "outputId": "d8e96548-e993-4280-8a3f-d523badae410"
      },
      "execution_count": 100,
      "outputs": [
        {
          "output_type": "display_data",
          "data": {
            "text/plain": [
              "<Figure size 1000x700 with 1 Axes>"
            ],
            "image/png": "[encoded data removed]"
          },
          "metadata": {}
        }
      ]
    },
    {
      "cell_type": "markdown",
      "source": [
        "I achieved 98% accuracy which is about 10 % higher than my target... thats awesome.\n",
        "\n",
        "**SAPARE AUDE**"
      ],
      "metadata": {
        "id": "diBP4rMIcQc9"
      }
    },
    {
      "cell_type": "code",
      "source": [],
      "metadata": {
        "id": "5PuolYMwYEVt"
      },
      "execution_count": null,
      "outputs": []
    }
  ]
}